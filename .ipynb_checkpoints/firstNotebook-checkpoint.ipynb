{
 "cells": [
  {
   "cell_type": "code",
   "execution_count": 1,
   "metadata": {},
   "outputs": [],
   "source": [
    "import re\n",
    "from datetime import datetime\n",
    "\n",
    "\n",
    "line =  \"9/23/20, 10:28 - Jade: Hep my love\""
   ]
  },
  {
   "cell_type": "code",
   "execution_count": 2,
   "metadata": {},
   "outputs": [],
   "source": [
    "# datestring\n",
    "# sender\n",
    "# message\n",
    "whatsapp_regex = \"(\\d?\\d\\/\\d?\\d\\/\\d\\d,\\s\\d\\d\\:\\d\\d)\\s\\-\\s([^\\:]+)\\:\\s(.+)\""
   ]
  },
  {
   "cell_type": "code",
   "execution_count": 3,
   "metadata": {},
   "outputs": [],
   "source": [
    "class Message:\n",
    "    def __init__(self):\n",
    "        self.sender = \"\"\n",
    "        self.content = \"\"\n",
    "        self.date = \"\"\n",
    "        \n",
    "    def __init__(self, line):\n",
    "        res = re.search(whatsapp_regex, line)\n",
    "        \n",
    "        #parse into datetime?\n",
    "        self.date = res.group(1)\n",
    "        self.sender = res.group(2)\n",
    "        self.content = res.group(3)\n",
    "        \n",
    "       \n",
    "    \n",
    "    def __str__(self):\n",
    "        s  = \"sender: \" + self.sender + \" date: \" + self.date + \"\\n\" + self.content \n",
    "        return s\n",
    "        "
   ]
  },
  {
   "cell_type": "code",
   "execution_count": 4,
   "metadata": {},
   "outputs": [],
   "source": [
    "m = Message(line)"
   ]
  },
  {
   "cell_type": "code",
   "execution_count": 5,
   "metadata": {},
   "outputs": [
    {
     "name": "stdout",
     "output_type": "stream",
     "text": [
      "sender: Jade date: 9/23/20, 10:28\n",
      "Hep my love\n"
     ]
    }
   ],
   "source": [
    "print(m)"
   ]
  }
 ],
 "metadata": {
  "kernelspec": {
   "display_name": "Python 3",
   "language": "python",
   "name": "python3"
  },
  "language_info": {
   "codemirror_mode": {
    "name": "ipython",
    "version": 3
   },
   "file_extension": ".py",
   "mimetype": "text/x-python",
   "name": "python",
   "nbconvert_exporter": "python",
   "pygments_lexer": "ipython3",
   "version": "3.8.5"
  }
 },
 "nbformat": 4,
 "nbformat_minor": 4
}
